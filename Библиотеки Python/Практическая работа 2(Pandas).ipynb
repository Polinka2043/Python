{
 "cells": [
  {
   "cell_type": "code",
   "execution_count": 7,
   "id": "5688998b",
   "metadata": {},
   "outputs": [],
   "source": [
    "import numpy as np\n",
    "import pandas as pd\n",
    "a = np.array([ \n",
    "    [\"Film\",\"Genre\",\"Year\",\"Number of ratings\",\"Estimation\"],\n",
    "    [\"The Terminator\",\"Fantasy\",1984,10,4.6],\n",
    "    [\"Die Hard\",\"Action\",1988,23,3.7],\n",
    "    [\"9th company\",\"Action\",2005,15,4.0],\n",
    "    [\"Taxi\",\"Comedy\",1998,30,3.9],\n",
    "    [\"The fifth element\",\"Fantasy\",1997,7,3.5],\n",
    "    [\"Spider-Man: There is no way home\",\"Fantasy\",2021,30,4.6],\n",
    "    [\"The Joker\",\"Crime\",2019,50,5.0],\n",
    "    [\"Escape from Shawshank\",\"Drama\",1994,45,4.9],\n",
    "    [\"Home alone\",\"Comedy\",1990,35,4.7],\n",
    "    [\"The Green Mile\",\"Drama\",1990,39,4.3]])\n",
    "\n",
    "rows = [\"{},{},{},{},{}\".format(i, j, k, u, p) for i, j, k, u, p in a]\n",
    "text = \"\\n\".join(rows)\n",
    "\n",
    "with open('film1.csv', 'w') as f:\n",
    "    f.write(text)"
   ]
  },
  {
   "cell_type": "code",
   "execution_count": 8,
   "id": "3009dd44",
   "metadata": {},
   "outputs": [],
   "source": [
    "film=pd.read_csv(\"film1.csv\",delimiter=',')"
   ]
  },
  {
   "cell_type": "markdown",
   "id": "b0b33574",
   "metadata": {},
   "source": [
    "<h6>Хоррор фильмы<h6>"
   ]
  },
  {
   "cell_type": "code",
   "execution_count": 9,
   "id": "5e70d2dd",
   "metadata": {},
   "outputs": [
    {
     "data": {
      "text/html": [
       "<div>\n",
       "<style scoped>\n",
       "    .dataframe tbody tr th:only-of-type {\n",
       "        vertical-align: middle;\n",
       "    }\n",
       "\n",
       "    .dataframe tbody tr th {\n",
       "        vertical-align: top;\n",
       "    }\n",
       "\n",
       "    .dataframe thead th {\n",
       "        text-align: right;\n",
       "    }\n",
       "</style>\n",
       "<table border=\"1\" class=\"dataframe\">\n",
       "  <thead>\n",
       "    <tr style=\"text-align: right;\">\n",
       "      <th></th>\n",
       "      <th>Film</th>\n",
       "      <th>Genre</th>\n",
       "      <th>Year</th>\n",
       "      <th>Number of ratings</th>\n",
       "      <th>Estimation</th>\n",
       "    </tr>\n",
       "  </thead>\n",
       "  <tbody>\n",
       "  </tbody>\n",
       "</table>\n",
       "</div>"
      ],
      "text/plain": [
       "Empty DataFrame\n",
       "Columns: [Film, Genre, Year, Number of ratings, Estimation]\n",
       "Index: []"
      ]
     },
     "execution_count": 9,
     "metadata": {},
     "output_type": "execute_result"
    }
   ],
   "source": [
    "film[film[\"Genre\"]==\"Хоррор\"]"
   ]
  },
  {
   "cell_type": "markdown",
   "id": "51d99efc",
   "metadata": {},
   "source": [
    "<h6>Фильмы снятые после 2010 года<h6>"
   ]
  },
  {
   "cell_type": "code",
   "execution_count": 10,
   "id": "b3ebb824",
   "metadata": {},
   "outputs": [
    {
     "data": {
      "text/html": [
       "<div>\n",
       "<style scoped>\n",
       "    .dataframe tbody tr th:only-of-type {\n",
       "        vertical-align: middle;\n",
       "    }\n",
       "\n",
       "    .dataframe tbody tr th {\n",
       "        vertical-align: top;\n",
       "    }\n",
       "\n",
       "    .dataframe thead th {\n",
       "        text-align: right;\n",
       "    }\n",
       "</style>\n",
       "<table border=\"1\" class=\"dataframe\">\n",
       "  <thead>\n",
       "    <tr style=\"text-align: right;\">\n",
       "      <th></th>\n",
       "      <th>Film</th>\n",
       "      <th>Genre</th>\n",
       "      <th>Year</th>\n",
       "      <th>Number of ratings</th>\n",
       "      <th>Estimation</th>\n",
       "    </tr>\n",
       "  </thead>\n",
       "  <tbody>\n",
       "    <tr>\n",
       "      <th>5</th>\n",
       "      <td>Spider-Man: There is no way home</td>\n",
       "      <td>Fantasy</td>\n",
       "      <td>2021</td>\n",
       "      <td>30</td>\n",
       "      <td>4.6</td>\n",
       "    </tr>\n",
       "    <tr>\n",
       "      <th>6</th>\n",
       "      <td>The Joker</td>\n",
       "      <td>Crime</td>\n",
       "      <td>2019</td>\n",
       "      <td>50</td>\n",
       "      <td>5.0</td>\n",
       "    </tr>\n",
       "  </tbody>\n",
       "</table>\n",
       "</div>"
      ],
      "text/plain": [
       "                               Film    Genre  Year  Number of ratings  \\\n",
       "5  Spider-Man: There is no way home  Fantasy  2021                 30   \n",
       "6                         The Joker    Crime  2019                 50   \n",
       "\n",
       "   Estimation  \n",
       "5         4.6  \n",
       "6         5.0  "
      ]
     },
     "execution_count": 10,
     "metadata": {},
     "output_type": "execute_result"
    }
   ],
   "source": [
    "film[film[\"Year\"]>2010]"
   ]
  },
  {
   "cell_type": "markdown",
   "id": "bf58af9f",
   "metadata": {},
   "source": [
    "<h6>Фильмы с оценкой выше 4.0<h6>"
   ]
  },
  {
   "cell_type": "code",
   "execution_count": 11,
   "id": "aee4230f",
   "metadata": {},
   "outputs": [
    {
     "data": {
      "text/html": [
       "<div>\n",
       "<style scoped>\n",
       "    .dataframe tbody tr th:only-of-type {\n",
       "        vertical-align: middle;\n",
       "    }\n",
       "\n",
       "    .dataframe tbody tr th {\n",
       "        vertical-align: top;\n",
       "    }\n",
       "\n",
       "    .dataframe thead th {\n",
       "        text-align: right;\n",
       "    }\n",
       "</style>\n",
       "<table border=\"1\" class=\"dataframe\">\n",
       "  <thead>\n",
       "    <tr style=\"text-align: right;\">\n",
       "      <th></th>\n",
       "      <th>Film</th>\n",
       "      <th>Genre</th>\n",
       "      <th>Year</th>\n",
       "      <th>Number of ratings</th>\n",
       "      <th>Estimation</th>\n",
       "    </tr>\n",
       "  </thead>\n",
       "  <tbody>\n",
       "    <tr>\n",
       "      <th>0</th>\n",
       "      <td>The Terminator</td>\n",
       "      <td>Fantasy</td>\n",
       "      <td>1984</td>\n",
       "      <td>10</td>\n",
       "      <td>4.6</td>\n",
       "    </tr>\n",
       "    <tr>\n",
       "      <th>5</th>\n",
       "      <td>Spider-Man: There is no way home</td>\n",
       "      <td>Fantasy</td>\n",
       "      <td>2021</td>\n",
       "      <td>30</td>\n",
       "      <td>4.6</td>\n",
       "    </tr>\n",
       "    <tr>\n",
       "      <th>6</th>\n",
       "      <td>The Joker</td>\n",
       "      <td>Crime</td>\n",
       "      <td>2019</td>\n",
       "      <td>50</td>\n",
       "      <td>5.0</td>\n",
       "    </tr>\n",
       "    <tr>\n",
       "      <th>7</th>\n",
       "      <td>Escape from Shawshank</td>\n",
       "      <td>Drama</td>\n",
       "      <td>1994</td>\n",
       "      <td>45</td>\n",
       "      <td>4.9</td>\n",
       "    </tr>\n",
       "    <tr>\n",
       "      <th>8</th>\n",
       "      <td>Home alone</td>\n",
       "      <td>Comedy</td>\n",
       "      <td>1990</td>\n",
       "      <td>35</td>\n",
       "      <td>4.7</td>\n",
       "    </tr>\n",
       "    <tr>\n",
       "      <th>9</th>\n",
       "      <td>The Green Mile</td>\n",
       "      <td>Drama</td>\n",
       "      <td>1990</td>\n",
       "      <td>39</td>\n",
       "      <td>4.3</td>\n",
       "    </tr>\n",
       "  </tbody>\n",
       "</table>\n",
       "</div>"
      ],
      "text/plain": [
       "                               Film    Genre  Year  Number of ratings  \\\n",
       "0                    The Terminator  Fantasy  1984                 10   \n",
       "5  Spider-Man: There is no way home  Fantasy  2021                 30   \n",
       "6                         The Joker    Crime  2019                 50   \n",
       "7             Escape from Shawshank    Drama  1994                 45   \n",
       "8                        Home alone   Comedy  1990                 35   \n",
       "9                    The Green Mile    Drama  1990                 39   \n",
       "\n",
       "   Estimation  \n",
       "0         4.6  \n",
       "5         4.6  \n",
       "6         5.0  \n",
       "7         4.9  \n",
       "8         4.7  \n",
       "9         4.3  "
      ]
     },
     "execution_count": 11,
     "metadata": {},
     "output_type": "execute_result"
    }
   ],
   "source": [
    "film[film[\"Estimation\"]>4.0]"
   ]
  },
  {
   "cell_type": "markdown",
   "id": "453b3957",
   "metadata": {},
   "source": [
    "<h6>Фильмы, у которых оценок больше 10000<h6>"
   ]
  },
  {
   "cell_type": "code",
   "execution_count": 12,
   "id": "94d62069",
   "metadata": {},
   "outputs": [
    {
     "data": {
      "text/html": [
       "<div>\n",
       "<style scoped>\n",
       "    .dataframe tbody tr th:only-of-type {\n",
       "        vertical-align: middle;\n",
       "    }\n",
       "\n",
       "    .dataframe tbody tr th {\n",
       "        vertical-align: top;\n",
       "    }\n",
       "\n",
       "    .dataframe thead th {\n",
       "        text-align: right;\n",
       "    }\n",
       "</style>\n",
       "<table border=\"1\" class=\"dataframe\">\n",
       "  <thead>\n",
       "    <tr style=\"text-align: right;\">\n",
       "      <th></th>\n",
       "      <th>Film</th>\n",
       "      <th>Genre</th>\n",
       "      <th>Year</th>\n",
       "      <th>Number of ratings</th>\n",
       "      <th>Estimation</th>\n",
       "    </tr>\n",
       "  </thead>\n",
       "  <tbody>\n",
       "  </tbody>\n",
       "</table>\n",
       "</div>"
      ],
      "text/plain": [
       "Empty DataFrame\n",
       "Columns: [Film, Genre, Year, Number of ratings, Estimation]\n",
       "Index: []"
      ]
     },
     "execution_count": 12,
     "metadata": {},
     "output_type": "execute_result"
    }
   ],
   "source": [
    "film[film[\"Number of ratings\"]>10000]"
   ]
  },
  {
   "cell_type": "code",
   "execution_count": null,
   "id": "fbd8eeeb",
   "metadata": {},
   "outputs": [],
   "source": []
  },
  {
   "cell_type": "code",
   "execution_count": null,
   "id": "a07e6e00",
   "metadata": {},
   "outputs": [],
   "source": []
  }
 ],
 "metadata": {
  "kernelspec": {
   "display_name": "Python 3 (ipykernel)",
   "language": "python",
   "name": "python3"
  },
  "language_info": {
   "codemirror_mode": {
    "name": "ipython",
    "version": 3
   },
   "file_extension": ".py",
   "mimetype": "text/x-python",
   "name": "python",
   "nbconvert_exporter": "python",
   "pygments_lexer": "ipython3",
   "version": "3.11.5"
  }
 },
 "nbformat": 4,
 "nbformat_minor": 5
}
